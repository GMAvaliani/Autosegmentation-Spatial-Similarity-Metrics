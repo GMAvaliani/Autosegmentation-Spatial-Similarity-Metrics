{
 "cells": [
  {
   "cell_type": "code",
   "execution_count": 1,
   "metadata": {},
   "outputs": [],
   "source": [
    "# You must keep a pair of automated segmentation masks (called 'lungMask.nii') and \n",
    "# manual ground truth segmentation mask (called 'lungMask_edit_single_KK.nii') in the data folder for this code to work!!!"
   ]
  },
  {
   "cell_type": "code",
   "execution_count": 2,
   "metadata": {},
   "outputs": [],
   "source": [
    "import os\n",
    "import numpy as np\n",
    "from APIs import utility_APIs as util\n",
    "from APIs import segmentationMetrics_APIs as sm"
   ]
  },
  {
   "cell_type": "code",
   "execution_count": 3,
   "metadata": {},
   "outputs": [],
   "source": [
    "# Load auto segmentation mask\n",
    "auto = util.loadNiftiReturnNumpy(os.path.join('data', 'lungMask.nii'))\n",
    "\n",
    "# Load ground truth mask annotated by medical experts\n",
    "gt = util.loadNiftiReturnNumpy(os.path.join('data', 'lungMask_edit_single_KK.nii'))"
   ]
  },
  {
   "cell_type": "code",
   "execution_count": 4,
   "metadata": {},
   "outputs": [
    {
     "name": "stdout",
     "output_type": "stream",
     "text": [
      "False negative volume in # pixels: 151620\n"
     ]
    }
   ],
   "source": [
    "# Compute False Negative Volume\n",
    "print('False negative volume in # pixels:', sm.FalseNegativeVolume(auto, gt))"
   ]
  },
  {
   "cell_type": "code",
   "execution_count": 5,
   "metadata": {},
   "outputs": [
    {
     "name": "stdout",
     "output_type": "stream",
     "text": [
      "False negative path length in # pixels: 35635\n"
     ]
    }
   ],
   "source": [
    "# Compute False Negative Path Length\n",
    "print('False negative path length in # pixels:', sm.FalseNegativePathLength(auto, gt))"
   ]
  },
  {
   "cell_type": "code",
   "execution_count": 6,
   "metadata": {},
   "outputs": [
    {
     "name": "stdout",
     "output_type": "stream",
     "text": [
      "Added path length in # pixels: 39044\n"
     ]
    }
   ],
   "source": [
    "# Compute Added Path Length\n",
    "print('Added path length in # pixels:', sm.AddedPathLength(auto, gt))"
   ]
  }
 ],
 "metadata": {
  "kernelspec": {
   "display_name": "Python 3",
   "language": "python",
   "name": "python3"
  },
  "language_info": {
   "codemirror_mode": {
    "name": "ipython",
    "version": 3
   },
   "file_extension": ".py",
   "mimetype": "text/x-python",
   "name": "python",
   "nbconvert_exporter": "python",
   "pygments_lexer": "ipython3",
   "version": "3.7.4"
  }
 },
 "nbformat": 4,
 "nbformat_minor": 2
}
